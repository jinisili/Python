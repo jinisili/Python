{
 "cells": [
  {
   "cell_type": "code",
   "execution_count": null,
   "metadata": {},
   "outputs": [],
   "source": []
  },
  {
   "cell_type": "code",
   "execution_count": null,
   "metadata": {},
   "outputs": [],
   "source": []
  },
  {
   "cell_type": "code",
   "execution_count": null,
   "metadata": {},
   "outputs": [],
   "source": []
  },
  {
   "cell_type": "code",
   "execution_count": null,
   "metadata": {},
   "outputs": [],
   "source": []
  },
  {
   "cell_type": "code",
   "execution_count": null,
   "metadata": {},
   "outputs": [],
   "source": []
  },
  {
   "cell_type": "code",
   "execution_count": null,
   "metadata": {},
   "outputs": [],
   "source": [
    "# 1. 표준 출력\n",
    "\n",
    "name = '홍길동'\n",
    "age = 20\n",
    "\n",
    "print('내 소개:', name, age)\n",
    "print(f'내 소개: {name} {age}')\n",
    "\n",
    "print('내 소개:', name, age, sep='')\n",
    "\n",
    "print('사과', end='')\n",
    "print('포도')"
   ]
  },
  {
   "cell_type": "code",
   "execution_count": null,
   "metadata": {},
   "outputs": [],
   "source": [
    "# 2. 문자열에 변수값을 넣는 3가지 방법\n",
    "\n",
    "# (1) % 포맷팅\n",
    "# # 일반적인 언어들의 방식\n",
    "name, age = '홍길동', 30\n",
    "text = 'my name is %s, my age is %d' %('홍길동', 30)\n",
    "text = 'my name is %s, my age is %d' %(name, age)\n",
    "print(text)\n",
    "\n",
    "# (2) {} 포맷팅\n",
    "text = 'my name is {}, my age is {}'.format(name, age)\n",
    "print(text)\n",
    "text = 'my name is {0}{0}, my age is {1}'.format(name, age)\n",
    "print(text)\n",
    "\n",
    "# (3) f 포맷팅\n",
    "# python 3.6 버전부터 지원\n",
    "text = f'my name is {name}, my age is {age}'\n",
    "print(text)"
   ]
  },
  {
   "cell_type": "code",
   "execution_count": null,
   "metadata": {},
   "outputs": [],
   "source": [
    "# 3. 자리수 지정 및 정렬\n",
    "\n",
    "# 최소 20글자, 20글자 넘어가면 그대로 출력\n",
    "text = f'my name is {name:^20}, my age is {age:>20}'\n",
    "print(text)\n",
    "text = f'my name is {name:-^20}, my age is {age:a>20}'\n",
    "print(text)"
   ]
  },
  {
   "cell_type": "code",
   "execution_count": null,
   "metadata": {},
   "outputs": [],
   "source": [
    "# 4. 소수점 자리수 지정\n",
    "\n",
    "num = 3.141592\n",
    "print(f'{num:10.3f}')"
   ]
  },
  {
   "cell_type": "code",
   "execution_count": null,
   "metadata": {},
   "outputs": [],
   "source": [
    "# 5. 문자열의 덧셈과 곱셈\n",
    "\n",
    "# 덧셈 : 문자열끼리 이어 붙이는 기능\n",
    "fruit1 = '사과'\n",
    "fruit2 = '포도'\n",
    "fruits = fruit1 + fruit2\n",
    "print(fruits)\n",
    "\n",
    "# 곱셈 : 문자열 반복\n",
    "print(fruit1*3)"
   ]
  },
  {
   "cell_type": "code",
   "execution_count": null,
   "metadata": {},
   "outputs": [],
   "source": [
    "# 6. 표준 입력\n",
    "\n",
    "# input()\n",
    "text = input(\"문자열을 입력하세요: \")\n",
    "print(text)\n",
    "text = input(\"정수를 입력하세요: \")\n",
    "print(text)\n",
    "num = int(input(\"정수를 입력하세요: \"))\n",
    "print(num)\n",
    "num = float(input(\"정수를 입력하세요: \"))\n",
    "print(num)"
   ]
  },
  {
   "cell_type": "code",
   "execution_count": null,
   "metadata": {},
   "outputs": [],
   "source": [
    "# 실습\n",
    "\n",
    "# 섭씨 -> 화씨\n",
    "# 화씨 = 섭씨 * 1.8 + 32\n",
    "# 소숫점 2째 자리까지 표시\n",
    "\n",
    "celsius = float(input(\"온도를 입력하세요: \"))\n",
    "fahrenheit = celsius * 1.8 + 32\n",
    "print(f'섭씨온도 {celsius}은 화씨온도 {fahrenheit:.2f}입니다.')"
   ]
  }
 ],
 "metadata": {
  "language_info": {
   "name": "python"
  }
 },
 "nbformat": 4,
 "nbformat_minor": 2
}
