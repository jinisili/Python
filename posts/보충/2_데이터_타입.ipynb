{
 "cells": [
  {
   "cell_type": "code",
   "execution_count": null,
   "metadata": {},
   "outputs": [],
   "source": [
    "# 튜플 값을 우회적으로 바꾸기\n",
    "t1 = (1, 2, ['사과', '포도'])\n",
    "t1[-1][0] = '귤'\n",
    "print(t1)"
   ]
  },
  {
   "cell_type": "code",
   "execution_count": null,
   "metadata": {},
   "outputs": [],
   "source": [
    "# 논리 연산자 (비트 연산자)\n",
    "\n",
    "# 1) and (&)\n",
    "print(True and True)\n",
    "print(True & True)\n",
    "print(True and True)\n",
    "print(True & True)\n",
    "\n",
    "# 2) or (|)\n",
    "print(True or True)\n",
    "print(True | True)\n",
    "print(True or True)\n",
    "print(True | True)\n",
    "\n",
    "# 3) xor (^) : 다르면 True, 같으면 False\n",
    "# print(True xor True)  # 지원 안해줌\n",
    "print(True ^ True)\n",
    "# print(True xor True)  # 지원 안해줌\n",
    "print(True ^ True)\n",
    "\n",
    "# 비트 연산자 비교\n",
    "print(0b1011 and 0b0111)\n",
    "print(bin(0b1011 and 0b0111))\n",
    "print(0b1011 & 0b0111)\n",
    "print(bin(0b1011 & 0b0111))"
   ]
  },
  {
   "cell_type": "code",
   "execution_count": null,
   "metadata": {},
   "outputs": [],
   "source": [
    "# 내림, 반올림, 올림\n",
    "\n",
    "num = 3.3\n",
    "\n",
    "# 1) 내림\n",
    "print(int(num))\n",
    "\n",
    "# 2) 반올림\n",
    "print(round(num))\n",
    "print(round(num, 1))\n",
    "\n",
    "# 3) 올림\n",
    "print(int(num + 0.99999999))\n",
    "print(int(num) + (num != int(num)))\n",
    "print(-(-num//1))\n",
    "import math\n",
    "print(math.ceil(num))"
   ]
  }
 ],
 "metadata": {
  "language_info": {
   "name": "python"
  }
 },
 "nbformat": 4,
 "nbformat_minor": 2
}
